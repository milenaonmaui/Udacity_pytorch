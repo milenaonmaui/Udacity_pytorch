{
  "nbformat": 4,
  "nbformat_minor": 0,
  "metadata": {
    "colab": {
      "name": "Less_6_15_MNIST_MLP_w_validation_loop.ipynb",
      "provenance": [],
      "include_colab_link": true
    },
    "kernelspec": {
      "name": "python3",
      "display_name": "Python 3"
    },
    "accelerator": "GPU"
  },
  "cells": [
    {
      "cell_type": "markdown",
      "metadata": {
        "id": "view-in-github",
        "colab_type": "text"
      },
      "source": [
        "<a href=\"https://colab.research.google.com/github/milenaonmaui/Udacity_pytorch/blob/master/Less_6_15_MNIST_MLP_w_validation_loop.ipynb\" target=\"_parent\"><img src=\"https://colab.research.google.com/assets/colab-badge.svg\" alt=\"Open In Colab\"/></a>"
      ]
    },
    {
      "cell_type": "code",
      "metadata": {
        "id": "NVky7Qdni6dz",
        "colab_type": "code",
        "colab": {}
      },
      "source": [
        "# import libraries\n",
        "import torch\n",
        "import numpy as np\n",
        "from torchvision import datasets\n",
        "import torchvision.transforms as transforms\n",
        "from torch.utils.data.sampler import SubsetRandomSampler\n",
        "#number of subprocesses for data loading\n",
        "num_workers =0 \n",
        "#how many samples per batch to load\n",
        "batch_size = 20\n",
        "\n",
        "#what % of data to take for validation set\n",
        "valid_size = 0.2\n",
        "\n"
      ],
      "execution_count": 0,
      "outputs": []
    },
    {
      "cell_type": "markdown",
      "metadata": {
        "id": "BoZy5p9hknpS",
        "colab_type": "text"
      },
      "source": [
        "Convert data to torch.FloatTensor - data is 32-bit floating point\n",
        "CPU tensor is torch.FloatTensor, GPU tensor is torch.cuda.FloatTensor\n",
        "torch.Tensor is an alias for the default tensor type (torch.FloatTensor)\n"
      ]
    },
    {
      "cell_type": "code",
      "metadata": {
        "id": "UFf8xyy6kzSi",
        "colab_type": "code",
        "colab": {}
      },
      "source": [
        "transform = transforms.ToTensor()\n",
        "# choose the training and test datasets\n",
        "train_data = datasets.MNIST(root='data', train=True,\n",
        "                                   download=True, transform=transform)\n",
        "test_data = datasets.MNIST(root='data', train=False,\n",
        "                                  download=True, transform=transform)\n",
        "# obtain training indices that will be used for validation\n",
        "num_train = len(train_data)\n",
        "indices = list(range(num_train))\n",
        "np.random.shuffle(indices)\n",
        "split = int(np.floor(valid_size * num_train))\n",
        "train_idx, valid_idx = indices[split:], indices[:split]\n",
        "\n",
        "# define samplers for obtaining training and validation batches\n",
        "train_sampler = SubsetRandomSampler(train_idx)\n",
        "valid_sampler = SubsetRandomSampler(valid_idx)\n",
        "\n"
      ],
      "execution_count": 0,
      "outputs": []
    },
    {
      "cell_type": "code",
      "metadata": {
        "id": "4_rF0Xe3nejE",
        "colab_type": "code",
        "colab": {}
      },
      "source": [
        "# prepare data loaders\n",
        "train_loader = torch.utils.data.DataLoader(train_data, batch_size=batch_size,\n",
        "    sampler=train_sampler, num_workers=num_workers)\n",
        "valid_loader = torch.utils.data.DataLoader(train_data, batch_size=batch_size, \n",
        "    sampler=valid_sampler, num_workers=num_workers)\n",
        "test_loader = torch.utils.data.DataLoader(test_data, batch_size=batch_size, \n",
        "    num_workers=num_workers)"
      ],
      "execution_count": 0,
      "outputs": []
    },
    {
      "cell_type": "markdown",
      "metadata": {
        "id": "x72RloTnlUFi",
        "colab_type": "text"
      },
      "source": [
        "Visualize the data to make sure data is loaded correctly"
      ]
    },
    {
      "cell_type": "code",
      "metadata": {
        "id": "48x1CIDDlc83",
        "colab_type": "code",
        "outputId": "72cd878b-3d38-4999-9f13-5a25224e9020",
        "colab": {
          "base_uri": "https://localhost:8080/",
          "height": 288
        }
      },
      "source": [
        "import matplotlib.pyplot as plt\n",
        "%matplotlib inline\n",
        "\n",
        "#get a batch of images and their correct labels\n",
        "dataiter = iter(train_loader)\n",
        "images, labels= dataiter.next()\n",
        "\n",
        "#convert to numpy array\n",
        "images = images.numpy()\n",
        "\n",
        "#plot 20 images\n",
        "fig = plt.figure(figsize=(25, 4))\n",
        "for idx in np.arange(20):\n",
        "    ax = fig.add_subplot(2, 20/2, idx+1, xticks=[], yticks=[])\n",
        "    ax.imshow(np.squeeze(images[idx]), cmap='gray')\n",
        "    # print out the correct label for each image\n",
        "    # .item() gets the value contained in a Tensor\n",
        "    ax.set_title(str(labels[idx].item()))\n"
      ],
      "execution_count": 31,
      "outputs": [
        {
          "output_type": "display_data",
          "data": {
            "image/png": "[encoded data removed]",
            "text/plain": [
              "<Figure size 1800x288 with 20 Axes>"
            ]
          },
          "metadata": {
            "tags": []
          }
        }
      ]
    },
    {
      "cell_type": "code",
      "metadata": {
        "id": "W9lMNWC9qzft",
        "colab_type": "code",
        "outputId": "55c6bffa-309a-496a-f6e3-f8371d5e3413",
        "colab": {
          "base_uri": "https://localhost:8080/",
          "height": 102
        }
      },
      "source": [
        "import torch.nn as nn\n",
        "import torch.nn.functional as F\n",
        "\n",
        "## TODO: Define the NN architecture\n",
        "class Net(nn.Module):\n",
        "    def __init__(self):\n",
        "        super(Net, self).__init__()\n",
        "        # linear layer (784 -> 1 hidden node)\n",
        "        self.fc1 = nn.Linear(28 * 28, 512)\n",
        "        self.fc2 = nn.Linear(512, 10)\n",
        "        self.dropout = nn.Dropout(p=0.2)\n",
        "    def forward(self, x):\n",
        "        # flatten image input\n",
        "        x = x.view(-1, 28 * 28)\n",
        "        # add hidden layer, with relu activation function\n",
        "        x = self.dropout(F.relu(self.fc1(x)))\n",
        "        x = self.dropout(F.relu(self.fc2(x)))\n",
        "        return x\n",
        "\n",
        "# initialize the NN\n",
        "model = Net()\n",
        "print(model.parameters)"
      ],
      "execution_count": 32,
      "outputs": [
        {
          "output_type": "stream",
          "text": [
            "<bound method Module.parameters of Net(\n",
            "  (fc1): Linear(in_features=784, out_features=512, bias=True)\n",
            "  (fc2): Linear(in_features=512, out_features=10, bias=True)\n",
            "  (dropout): Dropout(p=0.2, inplace=False)\n",
            ")>\n"
          ],
          "name": "stdout"
        }
      ]
    },
    {
      "cell_type": "code",
      "metadata": {
        "id": "PHJ1x1TzJboP",
        "colab_type": "code",
        "colab": {}
      },
      "source": [
        "## Specify loss and optimization functions\n",
        "from torch import optim\n",
        "# specify loss function\n",
        "criterion = nn.CrossEntropyLoss()\n",
        "\n",
        "# specify optimizer\n",
        "optimizer = optim.SGD(model.parameters(), lr=0.003)"
      ],
      "execution_count": 0,
      "outputs": []
    },
    {
      "cell_type": "code",
      "metadata": {
        "id": "5GjaknTFMAuF",
        "colab_type": "code",
        "outputId": "556a5e82-d2d6-45ab-b032-3296d541d043",
        "colab": {
          "base_uri": "https://localhost:8080/",
          "height": 119
        }
      },
      "source": [
        "device = torch.device(\"cuda\" if torch.cuda.is_available() else \"cpu\")\n",
        "print(device)\n",
        "model.to(device)"
      ],
      "execution_count": 34,
      "outputs": [
        {
          "output_type": "stream",
          "text": [
            "cuda\n"
          ],
          "name": "stdout"
        },
        {
          "output_type": "execute_result",
          "data": {
            "text/plain": [
              "Net(\n",
              "  (fc1): Linear(in_features=784, out_features=512, bias=True)\n",
              "  (fc2): Linear(in_features=512, out_features=10, bias=True)\n",
              "  (dropout): Dropout(p=0.2, inplace=False)\n",
              ")"
            ]
          },
          "metadata": {
            "tags": []
          },
          "execution_count": 34
        }
      ]
    },
    {
      "cell_type": "code",
      "metadata": {
        "id": "hvu7Dp1mKXgc",
        "colab_type": "code",
        "outputId": "36183b00-943b-4361-c6a5-987ec88b9755",
        "colab": {
          "base_uri": "https://localhost:8080/",
          "height": 1000
        }
      },
      "source": [
        "##Training\n",
        "# number of epochs to train the model\n",
        "n_epochs = 80\n",
        "\n",
        "# initialize tracker for minimum validation loss\n",
        "valid_loss_min = np.Inf # set initial \"min\" to infinity\n",
        "\n",
        "model.train() # prep model for training\n",
        "\n",
        "for epoch in range(n_epochs):\n",
        "    # monitor training loss\n",
        "    train_loss = 0.0\n",
        "    valid_loss = 0.0\n",
        "    ###################\n",
        "    # train the model #\n",
        "    ###################\n",
        "    for data, target in train_loader:\n",
        "        # clear the gradients of all optimized variables\n",
        "        data, target = data.to(device), target.to(device)\n",
        "        \n",
        "        optimizer.zero_grad()\n",
        "        # forward pass: compute predicted outputs by passing inputs to the model\n",
        "        output = model(data)\n",
        "        # calculate the loss\n",
        "        loss = criterion(output, target)\n",
        "        # backward pass: compute gradient of the loss with respect to model parameters\n",
        "        loss.backward()\n",
        "        # perform a single optimization step (parameter update)\n",
        "        optimizer.step()\n",
        "        # update running training loss\n",
        "        train_loss += loss.item()*data.size(0)\n",
        "        \n",
        "    ######################    \n",
        "    # validate the model #\n",
        "    ######################\n",
        "    model.eval() # prep model for evaluation\n",
        "    for data, target in valid_loader:\n",
        "        # forward pass: compute predicted outputs by passing inputs to the model\n",
        "        data, target = data.to(device), target.to(device)\n",
        "        output = model(data)\n",
        "        # calculate the loss\n",
        "        loss = criterion(output, target)\n",
        "        # update running validation loss \n",
        "        valid_loss += loss.item()*data.size(0)\n",
        "        \n",
        "    # print training/validation statistics \n",
        "    # calculate average loss over an epoch\n",
        "    train_loss = train_loss/len(train_loader.sampler)\n",
        "    valid_loss = valid_loss/len(valid_loader.sampler)\n",
        "    \n",
        "    print('Epoch: {} \\tTraining Loss: {:.6f} \\tValidation Loss: {:.6f}'.format(\n",
        "        epoch+1, \n",
        "        train_loss,\n",
        "        valid_loss\n",
        "        ))\n",
        "    \n",
        "    # save model if validation loss has decreased\n",
        "    if valid_loss <= valid_loss_min:\n",
        "        print('Validation loss decreased ({:.6f} --> {:.6f}).  Saving model ...'.format(\n",
        "        valid_loss_min,\n",
        "        valid_loss))\n",
        "        torch.save(model.state_dict(), 'model.pt')\n",
        "        valid_loss_min = valid_loss"
      ],
      "execution_count": 38,
      "outputs": [
        {
          "output_type": "stream",
          "text": [
            "Epoch: 1 \tTraining Loss: 0.742218 \tValidation Loss: 0.202533\n",
            "Validation loss decreased (inf --> 0.202533).  Saving model ...\n",
            "Epoch: 2 \tTraining Loss: 0.126811 \tValidation Loss: 0.123544\n",
            "Validation loss decreased (0.202533 --> 0.123544).  Saving model ...\n",
            "Epoch: 3 \tTraining Loss: 0.106568 \tValidation Loss: 0.117273\n",
            "Validation loss decreased (0.123544 --> 0.117273).  Saving model ...\n",
            "Epoch: 4 \tTraining Loss: 0.101810 \tValidation Loss: 0.114848\n",
            "Validation loss decreased (0.117273 --> 0.114848).  Saving model ...\n",
            "Epoch: 5 \tTraining Loss: 0.098900 \tValidation Loss: 0.112933\n",
            "Validation loss decreased (0.114848 --> 0.112933).  Saving model ...\n",
            "Epoch: 6 \tTraining Loss: 0.096633 \tValidation Loss: 0.111387\n",
            "Validation loss decreased (0.112933 --> 0.111387).  Saving model ...\n",
            "Epoch: 7 \tTraining Loss: 0.094651 \tValidation Loss: 0.109945\n",
            "Validation loss decreased (0.111387 --> 0.109945).  Saving model ...\n",
            "Epoch: 8 \tTraining Loss: 0.092870 \tValidation Loss: 0.108918\n",
            "Validation loss decreased (0.109945 --> 0.108918).  Saving model ...\n",
            "Epoch: 9 \tTraining Loss: 0.091204 \tValidation Loss: 0.107343\n",
            "Validation loss decreased (0.108918 --> 0.107343).  Saving model ...\n",
            "Epoch: 10 \tTraining Loss: 0.089607 \tValidation Loss: 0.106499\n",
            "Validation loss decreased (0.107343 --> 0.106499).  Saving model ...\n",
            "Epoch: 11 \tTraining Loss: 0.088172 \tValidation Loss: 0.105840\n",
            "Validation loss decreased (0.106499 --> 0.105840).  Saving model ...\n",
            "Epoch: 12 \tTraining Loss: 0.086796 \tValidation Loss: 0.104549\n",
            "Validation loss decreased (0.105840 --> 0.104549).  Saving model ...\n",
            "Epoch: 13 \tTraining Loss: 0.085461 \tValidation Loss: 0.103162\n",
            "Validation loss decreased (0.104549 --> 0.103162).  Saving model ...\n",
            "Epoch: 14 \tTraining Loss: 0.084063 \tValidation Loss: 0.102694\n",
            "Validation loss decreased (0.103162 --> 0.102694).  Saving model ...\n",
            "Epoch: 15 \tTraining Loss: 0.082829 \tValidation Loss: 0.101358\n",
            "Validation loss decreased (0.102694 --> 0.101358).  Saving model ...\n",
            "Epoch: 16 \tTraining Loss: 0.081622 \tValidation Loss: 0.100674\n",
            "Validation loss decreased (0.101358 --> 0.100674).  Saving model ...\n",
            "Epoch: 17 \tTraining Loss: 0.080233 \tValidation Loss: 0.100192\n",
            "Validation loss decreased (0.100674 --> 0.100192).  Saving model ...\n",
            "Epoch: 18 \tTraining Loss: 0.079173 \tValidation Loss: 0.098918\n",
            "Validation loss decreased (0.100192 --> 0.098918).  Saving model ...\n",
            "Epoch: 19 \tTraining Loss: 0.078047 \tValidation Loss: 0.097944\n",
            "Validation loss decreased (0.098918 --> 0.097944).  Saving model ...\n",
            "Epoch: 20 \tTraining Loss: 0.077034 \tValidation Loss: 0.097222\n",
            "Validation loss decreased (0.097944 --> 0.097222).  Saving model ...\n",
            "Epoch: 21 \tTraining Loss: 0.075935 \tValidation Loss: 0.096463\n",
            "Validation loss decreased (0.097222 --> 0.096463).  Saving model ...\n",
            "Epoch: 22 \tTraining Loss: 0.074866 \tValidation Loss: 0.096424\n",
            "Validation loss decreased (0.096463 --> 0.096424).  Saving model ...\n",
            "Epoch: 23 \tTraining Loss: 0.073842 \tValidation Loss: 0.095236\n",
            "Validation loss decreased (0.096424 --> 0.095236).  Saving model ...\n",
            "Epoch: 24 \tTraining Loss: 0.072844 \tValidation Loss: 0.095041\n",
            "Validation loss decreased (0.095236 --> 0.095041).  Saving model ...\n",
            "Epoch: 25 \tTraining Loss: 0.071873 \tValidation Loss: 0.093833\n",
            "Validation loss decreased (0.095041 --> 0.093833).  Saving model ...\n",
            "Epoch: 26 \tTraining Loss: 0.070939 \tValidation Loss: 0.093283\n",
            "Validation loss decreased (0.093833 --> 0.093283).  Saving model ...\n",
            "Epoch: 27 \tTraining Loss: 0.070043 \tValidation Loss: 0.092685\n",
            "Validation loss decreased (0.093283 --> 0.092685).  Saving model ...\n",
            "Epoch: 28 \tTraining Loss: 0.069091 \tValidation Loss: 0.092019\n",
            "Validation loss decreased (0.092685 --> 0.092019).  Saving model ...\n",
            "Epoch: 29 \tTraining Loss: 0.068242 \tValidation Loss: 0.091181\n",
            "Validation loss decreased (0.092019 --> 0.091181).  Saving model ...\n",
            "Epoch: 30 \tTraining Loss: 0.067304 \tValidation Loss: 0.091505\n",
            "Epoch: 31 \tTraining Loss: 0.066514 \tValidation Loss: 0.090253\n",
            "Validation loss decreased (0.091181 --> 0.090253).  Saving model ...\n",
            "Epoch: 32 \tTraining Loss: 0.065706 \tValidation Loss: 0.089473\n",
            "Validation loss decreased (0.090253 --> 0.089473).  Saving model ...\n",
            "Epoch: 33 \tTraining Loss: 0.064796 \tValidation Loss: 0.089286\n",
            "Validation loss decreased (0.089473 --> 0.089286).  Saving model ...\n",
            "Epoch: 34 \tTraining Loss: 0.064066 \tValidation Loss: 0.088813\n",
            "Validation loss decreased (0.089286 --> 0.088813).  Saving model ...\n",
            "Epoch: 35 \tTraining Loss: 0.063244 \tValidation Loss: 0.088384\n",
            "Validation loss decreased (0.088813 --> 0.088384).  Saving model ...\n",
            "Epoch: 36 \tTraining Loss: 0.062523 \tValidation Loss: 0.087794\n",
            "Validation loss decreased (0.088384 --> 0.087794).  Saving model ...\n",
            "Epoch: 37 \tTraining Loss: 0.061725 \tValidation Loss: 0.087121\n",
            "Validation loss decreased (0.087794 --> 0.087121).  Saving model ...\n",
            "Epoch: 38 \tTraining Loss: 0.061042 \tValidation Loss: 0.086754\n",
            "Validation loss decreased (0.087121 --> 0.086754).  Saving model ...\n",
            "Epoch: 39 \tTraining Loss: 0.060283 \tValidation Loss: 0.086521\n",
            "Validation loss decreased (0.086754 --> 0.086521).  Saving model ...\n",
            "Epoch: 40 \tTraining Loss: 0.059553 \tValidation Loss: 0.086181\n",
            "Validation loss decreased (0.086521 --> 0.086181).  Saving model ...\n",
            "Epoch: 41 \tTraining Loss: 0.058856 \tValidation Loss: 0.085125\n",
            "Validation loss decreased (0.086181 --> 0.085125).  Saving model ...\n",
            "Epoch: 42 \tTraining Loss: 0.058123 \tValidation Loss: 0.084818\n",
            "Validation loss decreased (0.085125 --> 0.084818).  Saving model ...\n",
            "Epoch: 43 \tTraining Loss: 0.057511 \tValidation Loss: 0.084563\n",
            "Validation loss decreased (0.084818 --> 0.084563).  Saving model ...\n",
            "Epoch: 44 \tTraining Loss: 0.056873 \tValidation Loss: 0.083864\n",
            "Validation loss decreased (0.084563 --> 0.083864).  Saving model ...\n",
            "Epoch: 45 \tTraining Loss: 0.056227 \tValidation Loss: 0.083524\n",
            "Validation loss decreased (0.083864 --> 0.083524).  Saving model ...\n",
            "Epoch: 46 \tTraining Loss: 0.055522 \tValidation Loss: 0.083420\n",
            "Validation loss decreased (0.083524 --> 0.083420).  Saving model ...\n",
            "Epoch: 47 \tTraining Loss: 0.054938 \tValidation Loss: 0.082833\n",
            "Validation loss decreased (0.083420 --> 0.082833).  Saving model ...\n",
            "Epoch: 48 \tTraining Loss: 0.054327 \tValidation Loss: 0.082384\n",
            "Validation loss decreased (0.082833 --> 0.082384).  Saving model ...\n",
            "Epoch: 49 \tTraining Loss: 0.053617 \tValidation Loss: 0.081940\n",
            "Validation loss decreased (0.082384 --> 0.081940).  Saving model ...\n",
            "Epoch: 50 \tTraining Loss: 0.053078 \tValidation Loss: 0.081807\n",
            "Validation loss decreased (0.081940 --> 0.081807).  Saving model ...\n",
            "Epoch: 51 \tTraining Loss: 0.052498 \tValidation Loss: 0.081727\n",
            "Validation loss decreased (0.081807 --> 0.081727).  Saving model ...\n",
            "Epoch: 52 \tTraining Loss: 0.051866 \tValidation Loss: 0.080667\n",
            "Validation loss decreased (0.081727 --> 0.080667).  Saving model ...\n",
            "Epoch: 53 \tTraining Loss: 0.051295 \tValidation Loss: 0.080933\n",
            "Epoch: 54 \tTraining Loss: 0.050814 \tValidation Loss: 0.080636\n",
            "Validation loss decreased (0.080667 --> 0.080636).  Saving model ...\n",
            "Epoch: 55 \tTraining Loss: 0.050217 \tValidation Loss: 0.080055\n",
            "Validation loss decreased (0.080636 --> 0.080055).  Saving model ...\n",
            "Epoch: 56 \tTraining Loss: 0.049653 \tValidation Loss: 0.079383\n",
            "Validation loss decreased (0.080055 --> 0.079383).  Saving model ...\n",
            "Epoch: 57 \tTraining Loss: 0.049118 \tValidation Loss: 0.079430\n",
            "Epoch: 58 \tTraining Loss: 0.048583 \tValidation Loss: 0.079160\n",
            "Validation loss decreased (0.079383 --> 0.079160).  Saving model ...\n",
            "Epoch: 59 \tTraining Loss: 0.048111 \tValidation Loss: 0.078757\n",
            "Validation loss decreased (0.079160 --> 0.078757).  Saving model ...\n",
            "Epoch: 60 \tTraining Loss: 0.047548 \tValidation Loss: 0.078757\n",
            "Epoch: 61 \tTraining Loss: 0.047093 \tValidation Loss: 0.078257\n",
            "Validation loss decreased (0.078757 --> 0.078257).  Saving model ...\n",
            "Epoch: 62 \tTraining Loss: 0.046589 \tValidation Loss: 0.077899\n",
            "Validation loss decreased (0.078257 --> 0.077899).  Saving model ...\n",
            "Epoch: 63 \tTraining Loss: 0.046066 \tValidation Loss: 0.077844\n",
            "Validation loss decreased (0.077899 --> 0.077844).  Saving model ...\n",
            "Epoch: 64 \tTraining Loss: 0.045621 \tValidation Loss: 0.077395\n",
            "Validation loss decreased (0.077844 --> 0.077395).  Saving model ...\n",
            "Epoch: 65 \tTraining Loss: 0.045111 \tValidation Loss: 0.077735\n",
            "Epoch: 66 \tTraining Loss: 0.044682 \tValidation Loss: 0.076912\n",
            "Validation loss decreased (0.077395 --> 0.076912).  Saving model ...\n",
            "Epoch: 67 \tTraining Loss: 0.044229 \tValidation Loss: 0.076908\n",
            "Validation loss decreased (0.076912 --> 0.076908).  Saving model ...\n",
            "Epoch: 68 \tTraining Loss: 0.043765 \tValidation Loss: 0.076837\n",
            "Validation loss decreased (0.076908 --> 0.076837).  Saving model ...\n",
            "Epoch: 69 \tTraining Loss: 0.043379 \tValidation Loss: 0.076185\n",
            "Validation loss decreased (0.076837 --> 0.076185).  Saving model ...\n",
            "Epoch: 70 \tTraining Loss: 0.042889 \tValidation Loss: 0.076220\n",
            "Epoch: 71 \tTraining Loss: 0.042522 \tValidation Loss: 0.075688\n",
            "Validation loss decreased (0.076185 --> 0.075688).  Saving model ...\n",
            "Epoch: 72 \tTraining Loss: 0.042036 \tValidation Loss: 0.075525\n",
            "Validation loss decreased (0.075688 --> 0.075525).  Saving model ...\n",
            "Epoch: 73 \tTraining Loss: 0.041594 \tValidation Loss: 0.075473\n",
            "Validation loss decreased (0.075525 --> 0.075473).  Saving model ...\n",
            "Epoch: 74 \tTraining Loss: 0.041241 \tValidation Loss: 0.075089\n",
            "Validation loss decreased (0.075473 --> 0.075089).  Saving model ...\n",
            "Epoch: 75 \tTraining Loss: 0.040825 \tValidation Loss: 0.074624\n",
            "Validation loss decreased (0.075089 --> 0.074624).  Saving model ...\n",
            "Epoch: 76 \tTraining Loss: 0.040387 \tValidation Loss: 0.074749\n",
            "Epoch: 77 \tTraining Loss: 0.040010 \tValidation Loss: 0.074228\n",
            "Validation loss decreased (0.074624 --> 0.074228).  Saving model ...\n",
            "Epoch: 78 \tTraining Loss: 0.039622 \tValidation Loss: 0.074132\n",
            "Validation loss decreased (0.074228 --> 0.074132).  Saving model ...\n",
            "Epoch: 79 \tTraining Loss: 0.039219 \tValidation Loss: 0.074219\n",
            "Epoch: 80 \tTraining Loss: 0.038836 \tValidation Loss: 0.073988\n",
            "Validation loss decreased (0.074132 --> 0.073988).  Saving model ...\n"
          ],
          "name": "stdout"
        }
      ]
    },
    {
      "cell_type": "code",
      "metadata": {
        "id": "Omz229KHNmBf",
        "colab_type": "code",
        "outputId": "4c7497fe-8d5e-4081-ab98-6e7f49852e14",
        "colab": {
          "base_uri": "https://localhost:8080/",
          "height": 255
        }
      },
      "source": [
        "# initialize lists to monitor test loss and accuracy\n",
        "test_loss = 0.0\n",
        "class_correct = list(0. for i in range(10))\n",
        "class_total = list(0. for i in range(10))\n",
        "\n",
        "model.eval() # prep model for *evaluation*\n",
        "\n",
        "for data, target in test_loader:\n",
        "    # forward pass: compute predicted outputs by passing inputs to the model\n",
        "    data, target = data.to(device), target.to(device)\n",
        "    output = model(data)\n",
        "    # calculate the loss\n",
        "    loss = criterion(output, target)\n",
        "    # update test loss \n",
        "    test_loss += loss.item()*data.size(0)\n",
        "    # convert output probabilities to predicted class\n",
        "    _, pred = torch.max(output, 1)\n",
        "    # compare predictions to true label\n",
        "    correct = np.squeeze(pred.eq(target.data.view_as(pred)))\n",
        "    # calculate test accuracy for each object class\n",
        "    for i in range(len(target)):\n",
        "        label = target.data[i]\n",
        "        class_correct[label] += correct[i].item()\n",
        "        class_total[label] += 1\n",
        "\n",
        "# calculate and print avg test loss\n",
        "test_loss = test_loss/len(test_loader.sampler)\n",
        "print('Test Loss: {:.6f}\\n'.format(test_loss))\n",
        "\n",
        "for i in range(10):\n",
        "    if class_total[i] > 0:\n",
        "        print('Test Accuracy of %5s: %2d%% (%2d/%2d)' % (\n",
        "            str(i), 100 * class_correct[i] / class_total[i],\n",
        "            np.sum(class_correct[i]), np.sum(class_total[i])))\n",
        "    else:\n",
        "        print('Test Accuracy of %5s: N/A (no training examples)' % (str(i)))\n",
        "\n",
        "print('\\nTest Accuracy (Overall): %2d%% (%2d/%2d)' % (\n",
        "    100. * np.sum(class_correct) / np.sum(class_total),\n",
        "    np.sum(class_correct), np.sum(class_total)))"
      ],
      "execution_count": 22,
      "outputs": [
        {
          "output_type": "stream",
          "text": [
            "Test Loss: 0.171952\n",
            "\n",
            "Test Accuracy of     0: 100% ( 2/ 2)\n",
            "Test Accuracy of     1: 100% ( 3/ 3)\n",
            "Test Accuracy of     2: 75% ( 3/ 4)\n",
            "Test Accuracy of     3: 100% ( 1/ 1)\n",
            "Test Accuracy of     4: 100% ( 2/ 2)\n",
            "Test Accuracy of     5: N/A (no training examples)\n",
            "Test Accuracy of     6: 100% ( 1/ 1)\n",
            "Test Accuracy of     7: 100% ( 3/ 3)\n",
            "Test Accuracy of     8: 100% ( 3/ 3)\n",
            "Test Accuracy of     9: 100% ( 1/ 1)\n",
            "\n",
            "Test Accuracy (Overall): 95% (19/20)\n"
          ],
          "name": "stdout"
        }
      ]
    },
    {
      "cell_type": "code",
      "metadata": {
        "id": "0UooAhN3OtUu",
        "colab_type": "code",
        "outputId": "6538bbd8-8d78-490d-c693-18450238a5b0",
        "colab": {
          "base_uri": "https://localhost:8080/",
          "height": 288
        }
      },
      "source": [
        "model.to(\"cpu\")\n",
        "# obtain one random batch of test images\n",
        "rand_sampler = torch.utils.data.RandomSampler(test_data, num_samples=batch_size, replacement=True)\n",
        "test_loader = torch.utils.data.DataLoader(test_data, batch_size=batch_size, \n",
        "    num_workers=num_workers, sampler=rand_sampler)\n",
        "\n",
        "dataiter = iter(test_loader)\n",
        "images, labels = dataiter.next()\n",
        "#images, labels = images.to(device), labels.to(device)\n",
        "# get sample outputs\n",
        "output = model(images)\n",
        "# convert output probabilities to predicted class\n",
        "_, preds = torch.max(output, 1)\n",
        "# prep images for display\n",
        "images = images.numpy()\n",
        "\n",
        "# plot the images in the batch, along with predicted and true labels\n",
        "fig = plt.figure(figsize=(25, 4))\n",
        "for idx in np.arange(20):\n",
        "    ax = fig.add_subplot(2, 20/2, idx+1, xticks=[], yticks=[])\n",
        "    ax.imshow(np.squeeze(images[idx]), cmap='gray')\n",
        "    ax.set_title(\"{} ({})\".format(str(preds[idx].item()), str(labels[idx].item())),\n",
        "                 color=(\"green\" if preds[idx]==labels[idx] else \"red\"))"
      ],
      "execution_count": 23,
      "outputs": [
        {
          "output_type": "display_data",
          "data": {
            "image/png": "[encoded data removed]",
            "text/plain": [
              "<Figure size 1800x288 with 20 Axes>"
            ]
          },
          "metadata": {
            "tags": []
          }
        }
      ]
    }
  ]
}