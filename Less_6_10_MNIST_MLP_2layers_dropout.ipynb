{
  "nbformat": 4,
  "nbformat_minor": 0,
  "metadata": {
    "colab": {
      "name": "Less_6_10_MNIST_MLP_2layers_dropout.ipynb",
      "provenance": [],
      "include_colab_link": true
    },
    "kernelspec": {
      "name": "python3",
      "display_name": "Python 3"
    },
    "accelerator": "GPU"
  },
  "cells": [
    {
      "cell_type": "markdown",
      "metadata": {
        "id": "view-in-github",
        "colab_type": "text"
      },
      "source": [
        "<a href=\"https://colab.research.google.com/github/milenaonmaui/Udacity_pytorch/blob/master/Less_6_10_MNIST_MLP_2layers_dropout.ipynb\" target=\"_parent\"><img src=\"https://colab.research.google.com/assets/colab-badge.svg\" alt=\"Open In Colab\"/></a>"
      ]
    },
    {
      "cell_type": "code",
      "metadata": {
        "id": "NVky7Qdni6dz",
        "colab_type": "code",
        "colab": {}
      },
      "source": [
        "# import libraries\n",
        "import torch\n",
        "import numpy as np\n",
        "from torchvision import datasets\n",
        "import torchvision.transforms as transforms\n",
        "#number of subprocesses for data loading\n",
        "num_workers =0 \n",
        "#how many samples per batch to load\n",
        "batch_size = 20\n",
        "\n"
      ],
      "execution_count": 0,
      "outputs": []
    },
    {
      "cell_type": "markdown",
      "metadata": {
        "id": "BoZy5p9hknpS",
        "colab_type": "text"
      },
      "source": [
        "Convert data to torch.FloatTensor - data is 32-bit floating point\n",
        "CPU tensor is torch.FloatTensor, GPU tensor is torch.cuda.FloatTensor\n",
        "torch.Tensor is an alias for the default tensor type (torch.FloatTensor)\n"
      ]
    },
    {
      "cell_type": "code",
      "metadata": {
        "id": "UFf8xyy6kzSi",
        "colab_type": "code",
        "outputId": "3b062dcf-feb3-40af-9537-eff85c4b62fe",
        "colab": {
          "base_uri": "https://localhost:8080/",
          "height": 275
        }
      },
      "source": [
        "transform = transforms.ToTensor()\n",
        "# choose the training and test datasets\n",
        "train_data = datasets.MNIST(root='data', train=True,\n",
        "                                   download=True, transform=transform)\n",
        "test_data = datasets.MNIST(root='data', train=False,\n",
        "                                  download=True, transform=transform)\n",
        "# choose the training and test datasets. the data will go into a directory named 'data'\n",
        "train_data = datasets.MNIST(root='data', train=True,\n",
        "                                   download=True, transform=transform)\n",
        "test_data = datasets.MNIST(root='data', train=False,\n",
        "                                  download=True, transform=transform)\n"
      ],
      "execution_count": 2,
      "outputs": [
        {
          "output_type": "stream",
          "text": [
            "\r0it [00:00, ?it/s]"
          ],
          "name": "stderr"
        },
        {
          "output_type": "stream",
          "text": [
            "Downloading http://yann.lecun.com/exdb/mnist/train-images-idx3-ubyte.gz to data/MNIST/raw/train-images-idx3-ubyte.gz\n"
          ],
          "name": "stdout"
        },
        {
          "output_type": "stream",
          "text": [
            "9920512it [00:02, 3416752.56it/s]                            \n"
          ],
          "name": "stderr"
        },
        {
          "output_type": "stream",
          "text": [
            "Extracting data/MNIST/raw/train-images-idx3-ubyte.gz to data/MNIST/raw\n"
          ],
          "name": "stdout"
        },
        {
          "output_type": "stream",
          "text": [
            "\r0it [00:00, ?it/s]"
          ],
          "name": "stderr"
        },
        {
          "output_type": "stream",
          "text": [
            "Downloading http://yann.lecun.com/exdb/mnist/train-labels-idx1-ubyte.gz to data/MNIST/raw/train-labels-idx1-ubyte.gz\n"
          ],
          "name": "stdout"
        },
        {
          "output_type": "stream",
          "text": [
            "32768it [00:00, 49020.79it/s]                           \n",
            "0it [00:00, ?it/s]"
          ],
          "name": "stderr"
        },
        {
          "output_type": "stream",
          "text": [
            "Extracting data/MNIST/raw/train-labels-idx1-ubyte.gz to data/MNIST/raw\n",
            "Downloading http://yann.lecun.com/exdb/mnist/t10k-images-idx3-ubyte.gz to data/MNIST/raw/t10k-images-idx3-ubyte.gz\n"
          ],
          "name": "stdout"
        },
        {
          "output_type": "stream",
          "text": [
            "1654784it [00:02, 819408.72it/s]                             \n",
            "0it [00:00, ?it/s]"
          ],
          "name": "stderr"
        },
        {
          "output_type": "stream",
          "text": [
            "Extracting data/MNIST/raw/t10k-images-idx3-ubyte.gz to data/MNIST/raw\n",
            "Downloading http://yann.lecun.com/exdb/mnist/t10k-labels-idx1-ubyte.gz to data/MNIST/raw/t10k-labels-idx1-ubyte.gz\n"
          ],
          "name": "stdout"
        },
        {
          "output_type": "stream",
          "text": [
            "8192it [00:00, 18798.56it/s]            "
          ],
          "name": "stderr"
        },
        {
          "output_type": "stream",
          "text": [
            "Extracting data/MNIST/raw/t10k-labels-idx1-ubyte.gz to data/MNIST/raw\n",
            "Processing...\n",
            "Done!\n"
          ],
          "name": "stdout"
        },
        {
          "output_type": "stream",
          "text": [
            "\n"
          ],
          "name": "stderr"
        }
      ]
    },
    {
      "cell_type": "code",
      "metadata": {
        "id": "4_rF0Xe3nejE",
        "colab_type": "code",
        "colab": {}
      },
      "source": [
        "# prepare data loaders\n",
        "train_loader = torch.utils.data.DataLoader(train_data, batch_size=batch_size,\n",
        "    num_workers=num_workers)\n",
        "test_loader = torch.utils.data.DataLoader(test_data, batch_size=batch_size, \n",
        "    num_workers=num_workers)"
      ],
      "execution_count": 0,
      "outputs": []
    },
    {
      "cell_type": "markdown",
      "metadata": {
        "id": "x72RloTnlUFi",
        "colab_type": "text"
      },
      "source": [
        "Visualize the data to make sure data is loaded correctly"
      ]
    },
    {
      "cell_type": "code",
      "metadata": {
        "id": "48x1CIDDlc83",
        "colab_type": "code",
        "outputId": "9f29f425-af33-446a-a316-5865ea617b7d",
        "colab": {
          "base_uri": "https://localhost:8080/",
          "height": 288
        }
      },
      "source": [
        "import matplotlib.pyplot as plt\n",
        "%matplotlib inline\n",
        "\n",
        "#get a batch of images and their correct labels\n",
        "dataiter = iter(train_loader)\n",
        "images, labels= dataiter.next()\n",
        "\n",
        "#convert to numpy array\n",
        "images = images.numpy()\n",
        "\n",
        "#plot 20 images\n",
        "fig = plt.figure(figsize=(25, 4))\n",
        "for idx in np.arange(20):\n",
        "    ax = fig.add_subplot(2, 20/2, idx+1, xticks=[], yticks=[])\n",
        "    ax.imshow(np.squeeze(images[idx]), cmap='gray')\n",
        "    # print out the correct label for each image\n",
        "    # .item() gets the value contained in a Tensor\n",
        "    ax.set_title(str(labels[idx].item()))\n"
      ],
      "execution_count": 4,
      "outputs": [
        {
          "output_type": "display_data",
          "data": {
            "image/png": "[encoded data removed]",
            "text/plain": [
              "<Figure size 1800x288 with 20 Axes>"
            ]
          },
          "metadata": {
            "tags": []
          }
        }
      ]
    },
    {
      "cell_type": "code",
      "metadata": {
        "id": "W9lMNWC9qzft",
        "colab_type": "code",
        "outputId": "be285d4e-872c-4e23-803d-e9e894b0524c",
        "colab": {
          "base_uri": "https://localhost:8080/",
          "height": 102
        }
      },
      "source": [
        "import torch.nn as nn\n",
        "import torch.nn.functional as F\n",
        "\n",
        "## TODO: Define the NN architecture\n",
        "class Net(nn.Module):\n",
        "    def __init__(self):\n",
        "        super(Net, self).__init__()\n",
        "        # linear layer (784 -> 1 hidden node)\n",
        "        self.fc1 = nn.Linear(28 * 28, 512)\n",
        "        self.fc2 = nn.Linear(512, 10)\n",
        "        self.dropout = nn.Dropout(p=0.2)\n",
        "    def forward(self, x):\n",
        "        # flatten image input\n",
        "        x = x.view(-1, 28 * 28)\n",
        "        # add hidden layer, with relu activation function\n",
        "        x = self.dropout(F.relu(self.fc1(x)))\n",
        "        x = self.dropout(F.relu(self.fc2(x)))\n",
        "        return x\n",
        "\n",
        "# initialize the NN\n",
        "model = Net()\n",
        "print(model.parameters)"
      ],
      "execution_count": 16,
      "outputs": [
        {
          "output_type": "stream",
          "text": [
            "<bound method Module.parameters of Net(\n",
            "  (fc1): Linear(in_features=784, out_features=512, bias=True)\n",
            "  (fc2): Linear(in_features=512, out_features=10, bias=True)\n",
            "  (dropout): Dropout(p=0.2, inplace=False)\n",
            ")>\n"
          ],
          "name": "stdout"
        }
      ]
    },
    {
      "cell_type": "code",
      "metadata": {
        "id": "PHJ1x1TzJboP",
        "colab_type": "code",
        "colab": {}
      },
      "source": [
        "## TODO: Specify loss and optimization functions\n",
        "from torch import optim\n",
        "# specify loss function\n",
        "criterion = nn.CrossEntropyLoss()\n",
        "\n",
        "# specify optimizer\n",
        "optimizer = optim.SGD(model.parameters(), lr=0.003)"
      ],
      "execution_count": 0,
      "outputs": []
    },
    {
      "cell_type": "code",
      "metadata": {
        "id": "5GjaknTFMAuF",
        "colab_type": "code",
        "outputId": "9bc3af7a-d644-4516-c75d-b55b7310fab7",
        "colab": {
          "base_uri": "https://localhost:8080/",
          "height": 119
        }
      },
      "source": [
        "device = torch.device(\"cuda\" if torch.cuda.is_available() else \"cpu\")\n",
        "print(device)\n",
        "model.to(device)"
      ],
      "execution_count": 18,
      "outputs": [
        {
          "output_type": "stream",
          "text": [
            "cuda\n"
          ],
          "name": "stdout"
        },
        {
          "output_type": "execute_result",
          "data": {
            "text/plain": [
              "Net(\n",
              "  (fc1): Linear(in_features=784, out_features=512, bias=True)\n",
              "  (fc2): Linear(in_features=512, out_features=10, bias=True)\n",
              "  (dropout): Dropout(p=0.2, inplace=False)\n",
              ")"
            ]
          },
          "metadata": {
            "tags": []
          },
          "execution_count": 18
        }
      ]
    },
    {
      "cell_type": "code",
      "metadata": {
        "id": "hvu7Dp1mKXgc",
        "colab_type": "code",
        "outputId": "d5e783e9-a11b-426b-8b68-423ad956bdc3",
        "colab": {
          "base_uri": "https://localhost:8080/",
          "height": 867
        }
      },
      "source": [
        "##Training\n",
        "n_epochs = 50  # suggest training between 20-50 epochs\n",
        "\n",
        "model.train() # prep model for training\n",
        "\n",
        "for epoch in range(n_epochs):\n",
        "    # monitor training loss\n",
        "    train_loss = 0.0\n",
        "    \n",
        "    ###################\n",
        "    # train the model #\n",
        "    ###################\n",
        "    for data, target in train_loader:\n",
        "        # clear the gradients of all optimized variables\n",
        "        data, target = data.to(device), target.to(device)\n",
        "        \n",
        "        optimizer.zero_grad()\n",
        "        # forward pass: compute predicted outputs by passing inputs to the model\n",
        "        output = model(data)\n",
        "        # calculate the loss\n",
        "        loss = criterion(output, target)\n",
        "        # backward pass: compute gradient of the loss with respect to model parameters\n",
        "        loss.backward()\n",
        "        # perform a single optimization step (parameter update)\n",
        "        optimizer.step()\n",
        "        # update running training loss\n",
        "        train_loss += loss.item()*data.size(0)\n",
        "        \n",
        "    # print training statistics \n",
        "    # calculate average loss over an epoch\n",
        "    train_loss = train_loss/len(train_loader.sampler)\n",
        "\n",
        "    print('Epoch: {} \\tTraining Loss: {:.6f}'.format(\n",
        "        epoch+1, \n",
        "        train_loss\n",
        "        ))"
      ],
      "execution_count": 21,
      "outputs": [
        {
          "output_type": "stream",
          "text": [
            "Epoch: 1 \tTraining Loss: 0.611557\n",
            "Epoch: 2 \tTraining Loss: 0.615084\n",
            "Epoch: 3 \tTraining Loss: 0.606683\n",
            "Epoch: 4 \tTraining Loss: 0.608482\n",
            "Epoch: 5 \tTraining Loss: 0.602409\n",
            "Epoch: 6 \tTraining Loss: 0.600502\n",
            "Epoch: 7 \tTraining Loss: 0.605059\n",
            "Epoch: 8 \tTraining Loss: 0.598325\n",
            "Epoch: 9 \tTraining Loss: 0.597601\n",
            "Epoch: 10 \tTraining Loss: 0.588757\n",
            "Epoch: 11 \tTraining Loss: 0.592982\n",
            "Epoch: 12 \tTraining Loss: 0.590695\n",
            "Epoch: 13 \tTraining Loss: 0.591244\n",
            "Epoch: 14 \tTraining Loss: 0.580263\n",
            "Epoch: 15 \tTraining Loss: 0.586592\n",
            "Epoch: 16 \tTraining Loss: 0.581502\n",
            "Epoch: 17 \tTraining Loss: 0.585283\n",
            "Epoch: 18 \tTraining Loss: 0.583138\n",
            "Epoch: 19 \tTraining Loss: 0.576899\n",
            "Epoch: 20 \tTraining Loss: 0.577599\n",
            "Epoch: 21 \tTraining Loss: 0.572081\n",
            "Epoch: 22 \tTraining Loss: 0.569880\n",
            "Epoch: 23 \tTraining Loss: 0.572656\n",
            "Epoch: 24 \tTraining Loss: 0.571141\n",
            "Epoch: 25 \tTraining Loss: 0.573225\n",
            "Epoch: 26 \tTraining Loss: 0.565688\n",
            "Epoch: 27 \tTraining Loss: 0.570753\n",
            "Epoch: 28 \tTraining Loss: 0.564045\n",
            "Epoch: 29 \tTraining Loss: 0.569732\n",
            "Epoch: 30 \tTraining Loss: 0.562831\n",
            "Epoch: 31 \tTraining Loss: 0.567686\n",
            "Epoch: 32 \tTraining Loss: 0.561771\n",
            "Epoch: 33 \tTraining Loss: 0.561916\n",
            "Epoch: 34 \tTraining Loss: 0.564854\n",
            "Epoch: 35 \tTraining Loss: 0.553591\n",
            "Epoch: 36 \tTraining Loss: 0.555581\n",
            "Epoch: 37 \tTraining Loss: 0.561863\n",
            "Epoch: 38 \tTraining Loss: 0.557649\n",
            "Epoch: 39 \tTraining Loss: 0.553489\n",
            "Epoch: 40 \tTraining Loss: 0.562898\n",
            "Epoch: 41 \tTraining Loss: 0.557261\n",
            "Epoch: 42 \tTraining Loss: 0.550671\n",
            "Epoch: 43 \tTraining Loss: 0.555234\n",
            "Epoch: 44 \tTraining Loss: 0.557052\n",
            "Epoch: 45 \tTraining Loss: 0.552954\n",
            "Epoch: 46 \tTraining Loss: 0.547349\n",
            "Epoch: 47 \tTraining Loss: 0.551913\n",
            "Epoch: 48 \tTraining Loss: 0.546580\n",
            "Epoch: 49 \tTraining Loss: 0.545694\n",
            "Epoch: 50 \tTraining Loss: 0.541774\n"
          ],
          "name": "stdout"
        }
      ]
    },
    {
      "cell_type": "code",
      "metadata": {
        "id": "Omz229KHNmBf",
        "colab_type": "code",
        "outputId": "4c7497fe-8d5e-4081-ab98-6e7f49852e14",
        "colab": {
          "base_uri": "https://localhost:8080/",
          "height": 255
        }
      },
      "source": [
        "# initialize lists to monitor test loss and accuracy\n",
        "test_loss = 0.0\n",
        "class_correct = list(0. for i in range(10))\n",
        "class_total = list(0. for i in range(10))\n",
        "\n",
        "model.eval() # prep model for *evaluation*\n",
        "\n",
        "for data, target in test_loader:\n",
        "    # forward pass: compute predicted outputs by passing inputs to the model\n",
        "    data, target = data.to(device), target.to(device)\n",
        "    output = model(data)\n",
        "    # calculate the loss\n",
        "    loss = criterion(output, target)\n",
        "    # update test loss \n",
        "    test_loss += loss.item()*data.size(0)\n",
        "    # convert output probabilities to predicted class\n",
        "    _, pred = torch.max(output, 1)\n",
        "    # compare predictions to true label\n",
        "    correct = np.squeeze(pred.eq(target.data.view_as(pred)))\n",
        "    # calculate test accuracy for each object class\n",
        "    for i in range(len(target)):\n",
        "        label = target.data[i]\n",
        "        class_correct[label] += correct[i].item()\n",
        "        class_total[label] += 1\n",
        "\n",
        "# calculate and print avg test loss\n",
        "test_loss = test_loss/len(test_loader.sampler)\n",
        "print('Test Loss: {:.6f}\\n'.format(test_loss))\n",
        "\n",
        "for i in range(10):\n",
        "    if class_total[i] > 0:\n",
        "        print('Test Accuracy of %5s: %2d%% (%2d/%2d)' % (\n",
        "            str(i), 100 * class_correct[i] / class_total[i],\n",
        "            np.sum(class_correct[i]), np.sum(class_total[i])))\n",
        "    else:\n",
        "        print('Test Accuracy of %5s: N/A (no training examples)' % (str(i)))\n",
        "\n",
        "print('\\nTest Accuracy (Overall): %2d%% (%2d/%2d)' % (\n",
        "    100. * np.sum(class_correct) / np.sum(class_total),\n",
        "    np.sum(class_correct), np.sum(class_total)))"
      ],
      "execution_count": 22,
      "outputs": [
        {
          "output_type": "stream",
          "text": [
            "Test Loss: 0.171952\n",
            "\n",
            "Test Accuracy of     0: 100% ( 2/ 2)\n",
            "Test Accuracy of     1: 100% ( 3/ 3)\n",
            "Test Accuracy of     2: 75% ( 3/ 4)\n",
            "Test Accuracy of     3: 100% ( 1/ 1)\n",
            "Test Accuracy of     4: 100% ( 2/ 2)\n",
            "Test Accuracy of     5: N/A (no training examples)\n",
            "Test Accuracy of     6: 100% ( 1/ 1)\n",
            "Test Accuracy of     7: 100% ( 3/ 3)\n",
            "Test Accuracy of     8: 100% ( 3/ 3)\n",
            "Test Accuracy of     9: 100% ( 1/ 1)\n",
            "\n",
            "Test Accuracy (Overall): 95% (19/20)\n"
          ],
          "name": "stdout"
        }
      ]
    },
    {
      "cell_type": "code",
      "metadata": {
        "id": "0UooAhN3OtUu",
        "colab_type": "code",
        "outputId": "6538bbd8-8d78-490d-c693-18450238a5b0",
        "colab": {
          "base_uri": "https://localhost:8080/",
          "height": 288
        }
      },
      "source": [
        "model.to(\"cpu\")\n",
        "# obtain one random batch of test images\n",
        "rand_sampler = torch.utils.data.RandomSampler(test_data, num_samples=batch_size, replacement=True)\n",
        "test_loader = torch.utils.data.DataLoader(test_data, batch_size=batch_size, \n",
        "    num_workers=num_workers, sampler=rand_sampler)\n",
        "\n",
        "dataiter = iter(test_loader)\n",
        "images, labels = dataiter.next()\n",
        "#images, labels = images.to(device), labels.to(device)\n",
        "# get sample outputs\n",
        "output = model(images)\n",
        "# convert output probabilities to predicted class\n",
        "_, preds = torch.max(output, 1)\n",
        "# prep images for display\n",
        "images = images.numpy()\n",
        "\n",
        "# plot the images in the batch, along with predicted and true labels\n",
        "fig = plt.figure(figsize=(25, 4))\n",
        "for idx in np.arange(20):\n",
        "    ax = fig.add_subplot(2, 20/2, idx+1, xticks=[], yticks=[])\n",
        "    ax.imshow(np.squeeze(images[idx]), cmap='gray')\n",
        "    ax.set_title(\"{} ({})\".format(str(preds[idx].item()), str(labels[idx].item())),\n",
        "                 color=(\"green\" if preds[idx]==labels[idx] else \"red\"))"
      ],
      "execution_count": 23,
      "outputs": [
        {
          "output_type": "display_data",
          "data": {
            "image/png": "[encoded data removed]",
            "text/plain": [
              "<Figure size 1800x288 with 20 Axes>"
            ]
          },
          "metadata": {
            "tags": []
          }
        }
      ]
    }
  ]
}